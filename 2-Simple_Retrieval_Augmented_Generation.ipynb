{
 "cells": [
  {
   "cell_type": "markdown",
   "id": "43ead32b-d4ab-431e-b64d-7a59b8962fae",
   "metadata": {},
   "source": [
    "# Simple Retrieval Augmented Generation"
   ]
  },
  {
   "cell_type": "markdown",
   "id": "a229d9f9",
   "metadata": {},
   "source": [
    "### Import  the Needed Packages"
   ]
  },
  {
   "cell_type": "code",
   "execution_count": 1,
   "id": "c74d8975-53e1-41a3-a846-1fed3361a4b8",
   "metadata": {
    "height": 47
   },
   "outputs": [],
   "source": [
    "import warnings\n",
    "warnings.filterwarnings('ignore')"
   ]
  },
  {
   "cell_type": "code",
   "execution_count": null,
   "id": "e1382dbd-5b93-419e-ae16-735aa4e0f22a",
   "metadata": {
    "height": 166
   },
   "outputs": [],
   "source": [
    "from datasets import load_dataset\n",
    "from openai import OpenAI\n",
    "from pinecone import Pinecone, ServerlessSpec\n",
    "from tqdm.auto import tqdm\n",
    "from _Utils import Utils\n",
    "\n",
    "import ast\n",
    "import os\n",
    "import pandas as pd"
   ]
  },
  {
   "cell_type": "code",
   "execution_count": 3,
   "id": "955e9783-9f33-4c09-8b10-ebee6b4a236e",
   "metadata": {
    "height": 64
   },
   "outputs": [],
   "source": [
    "# get api key\n",
    "utils = Utils()\n",
    "PINECONE_API_KEY = utils.get_pinecone_api_key()"
   ]
  },
  {
   "cell_type": "markdown",
   "id": "c79cdc21",
   "metadata": {},
   "source": [
    "### Setup Pinecone"
   ]
  },
  {
   "cell_type": "code",
   "execution_count": 4,
   "id": "73e4c29d-79ee-4d6c-8a78-c7d29077fe5b",
   "metadata": {
    "height": 200
   },
   "outputs": [],
   "source": [
    "pinecone = Pinecone(api_key=PINECONE_API_KEY)\n",
    "\n",
    "utils = Utils()\n",
    "INDEX_NAME = utils.create_dlai_index_name('dl-ai')\n",
    "if INDEX_NAME in [index.name for index in pinecone.list_indexes()]:\n",
    "  pinecone.delete_index(INDEX_NAME)\n",
    "\n",
    "pinecone.create_index(name=INDEX_NAME, dimension=1536, metric='cosine',\n",
    "  spec=ServerlessSpec(cloud='aws', region='us-west-2'))\n",
    "\n",
    "index = pinecone.Index(INDEX_NAME)"
   ]
  },
  {
   "cell_type": "markdown",
   "id": "94f00979",
   "metadata": {},
   "source": [
    "### Load the Dataset"
   ]
  },
  {
   "cell_type": "markdown",
   "id": "b059ccc3-f6ba-49dd-a42c-bd9a5bcfc4d3",
   "metadata": {},
   "source": [
    "<p style=\"background-color:#fff1d7; padding:15px; \"> <b>(Note: <code>max_articles_num = 500</code>):</b> To achieve a more comprehensive context for the Language Learning Model, a larger number of articles is generally more beneficial. Once you've done an initial run, consider increasing this value to 750 or 1,000. You'll likely notice that the context provided to the LLM becomes richer and better.</p>"
   ]
  },
  {
   "cell_type": "code",
   "execution_count": 5,
   "id": "a372beb7-2322-4f6c-bb80-a9aa2c74fdaf",
   "metadata": {
    "height": 81
   },
   "outputs": [
    {
     "data": {
      "text/html": [
       "<div>\n",
       "<style scoped>\n",
       "    .dataframe tbody tr th:only-of-type {\n",
       "        vertical-align: middle;\n",
       "    }\n",
       "\n",
       "    .dataframe tbody tr th {\n",
       "        vertical-align: top;\n",
       "    }\n",
       "\n",
       "    .dataframe thead th {\n",
       "        text-align: right;\n",
       "    }\n",
       "</style>\n",
       "<table border=\"1\" class=\"dataframe\">\n",
       "  <thead>\n",
       "    <tr style=\"text-align: right;\">\n",
       "      <th></th>\n",
       "      <th>id</th>\n",
       "      <th>metadata</th>\n",
       "      <th>values</th>\n",
       "    </tr>\n",
       "  </thead>\n",
       "  <tbody>\n",
       "    <tr>\n",
       "      <th>1</th>\n",
       "      <td>1-0</td>\n",
       "      <td>{'chunk': 0, 'source': 'https://simple.wikiped...</td>\n",
       "      <td>[-0.011254455894231796, -0.01698738895356655, ...</td>\n",
       "    </tr>\n",
       "    <tr>\n",
       "      <th>2</th>\n",
       "      <td>1-1</td>\n",
       "      <td>{'chunk': 1, 'source': 'https://simple.wikiped...</td>\n",
       "      <td>[-0.0015197008615359664, -0.007858820259571075...</td>\n",
       "    </tr>\n",
       "    <tr>\n",
       "      <th>3</th>\n",
       "      <td>1-2</td>\n",
       "      <td>{'chunk': 2, 'source': 'https://simple.wikiped...</td>\n",
       "      <td>[-0.009930099360644817, -0.012211072258651257,...</td>\n",
       "    </tr>\n",
       "    <tr>\n",
       "      <th>4</th>\n",
       "      <td>1-3</td>\n",
       "      <td>{'chunk': 3, 'source': 'https://simple.wikiped...</td>\n",
       "      <td>[-0.011600767262279987, -0.012608098797500134,...</td>\n",
       "    </tr>\n",
       "    <tr>\n",
       "      <th>5</th>\n",
       "      <td>1-4</td>\n",
       "      <td>{'chunk': 4, 'source': 'https://simple.wikiped...</td>\n",
       "      <td>[-0.026462381705641747, -0.016362832859158516,...</td>\n",
       "    </tr>\n",
       "  </tbody>\n",
       "</table>\n",
       "</div>"
      ],
      "text/plain": [
       "    id                                           metadata  \\\n",
       "1  1-0  {'chunk': 0, 'source': 'https://simple.wikiped...   \n",
       "2  1-1  {'chunk': 1, 'source': 'https://simple.wikiped...   \n",
       "3  1-2  {'chunk': 2, 'source': 'https://simple.wikiped...   \n",
       "4  1-3  {'chunk': 3, 'source': 'https://simple.wikiped...   \n",
       "5  1-4  {'chunk': 4, 'source': 'https://simple.wikiped...   \n",
       "\n",
       "                                              values  \n",
       "1  [-0.011254455894231796, -0.01698738895356655, ...  \n",
       "2  [-0.0015197008615359664, -0.007858820259571075...  \n",
       "3  [-0.009930099360644817, -0.012211072258651257,...  \n",
       "4  [-0.011600767262279987, -0.012608098797500134,...  \n",
       "5  [-0.026462381705641747, -0.016362832859158516,...  "
      ]
     },
     "execution_count": 5,
     "metadata": {},
     "output_type": "execute_result"
    }
   ],
   "source": [
    "max_articles_num = 500\n",
    "df = pd.read_csv('./wiki.csv', nrows=max_articles_num)\n",
    "df.head()\n"
   ]
  },
  {
   "cell_type": "markdown",
   "id": "fa307525",
   "metadata": {},
   "source": [
    "### Prepare the Embeddings and Upsert to Pinecone"
   ]
  },
  {
   "cell_type": "code",
   "execution_count": 6,
   "id": "27ac4cb4-e900-4d9e-bfc1-cd0ada96ed80",
   "metadata": {
    "height": 200
   },
   "outputs": [
    {
     "data": {
      "application/vnd.jupyter.widget-view+json": {
       "model_id": "7b38002b592649d8a2baa551749b5840",
       "version_major": 2,
       "version_minor": 0
      },
      "text/plain": [
       "  0%|          | 0/500 [00:00<?, ?it/s]"
      ]
     },
     "metadata": {},
     "output_type": "display_data"
    }
   ],
   "source": [
    "prepped = []\n",
    "\n",
    "for i, row in tqdm(df.iterrows(), total=df.shape[0]):\n",
    "    meta = ast.literal_eval(row['metadata'])\n",
    "    prepped.append({'id':row['id'], \n",
    "                    'values':ast.literal_eval(row['values']), \n",
    "                    'metadata':meta})\n",
    "    if len(prepped) >= 250:\n",
    "        index.upsert(prepped)\n",
    "        prepped = []\n"
   ]
  },
  {
   "cell_type": "code",
   "execution_count": 7,
   "id": "7180b6b2-ad7c-4a59-ab6c-046d21957343",
   "metadata": {
    "height": 30
   },
   "outputs": [
    {
     "data": {
      "text/plain": [
       "{'dimension': 1536,\n",
       " 'index_fullness': 0.0,\n",
       " 'namespaces': {'': {'vector_count': 500}},\n",
       " 'total_vector_count': 500}"
      ]
     },
     "execution_count": 7,
     "metadata": {},
     "output_type": "execute_result"
    }
   ],
   "source": [
    "index.describe_index_stats()"
   ]
  },
  {
   "cell_type": "markdown",
   "id": "617fe45f",
   "metadata": {},
   "source": [
    "### Connect to OpenAI"
   ]
  },
  {
   "cell_type": "code",
   "execution_count": 8,
   "id": "20f1922a-122e-4f3d-a9b4-6ab1e5a67195",
   "metadata": {
    "height": 98
   },
   "outputs": [],
   "source": [
    "OPENAI_API_KEY = utils.get_openai_api_key()\n",
    "openai_client = OpenAI(api_key=OPENAI_API_KEY)\n",
    "\n",
    "def get_embeddings(articles, model=\"text-embedding-ada-002\"):\n",
    "   return openai_client.embeddings.create(input = articles, model=model)"
   ]
  },
  {
   "cell_type": "markdown",
   "id": "f629efde",
   "metadata": {},
   "source": [
    "### Run Your Query"
   ]
  },
  {
   "cell_type": "code",
   "execution_count": 10,
   "id": "3f790629-f7e4-40e8-9f96-cfdd46cfde9c",
   "metadata": {
    "height": 147
   },
   "outputs": [
    {
     "name": "stdout",
     "output_type": "stream",
     "text": [
      "Apple is the edible fruit of a number of trees, known for this juicy, green or red fruits. The tree (Malus spp.) is grown worldwide. Its fruit is low-cost and popular, and is harvested all over the world. \n",
      "\n",
      "Applewood is a type of wood that comes from this tree.\n",
      "\n",
      "The apple tree comes from southern Kazakhstan, Kyrgyzstan, Uzbekistan, and northwestern part of China. Apples have been grown for thousands of years in Asia and Europe. They were brought to North America by European settlers. Apples have religious and mythological significance in many cultures.\n",
      "\n",
      "Apples are generally propagated by grafting, although wild apples grow readily from seed. Apple trees are large if grown from seed, but small if grafted onto roots (rootstock). There are more than 10000 known cultivars of apples, with a range of desired characteristics. Different cultivars are bred for various tastes and uses: cooking, eating raw and cider production are the most common uses. \n",
      "\n",
      "Trees and fruit are attacked by fungi, bacteria and pests. In 2010, the fruit's genome was sequenced as part of research on disease control and selective breeding in apple production.\n",
      "\n",
      "Worldwide production of apples in 2013 was 90.8 million tonnes. China grew 49% of the total.\n",
      "In botany, a fruit is a plant structure that contains the plant's seeds. \n",
      "\n",
      "To a botanist, the word fruit is used only if it comes from the part of the flower which was an ovary. It is an extra layer round the seeds, which may or may not be fleshy. However, even in the field of botany, there is no general agreement on how fruits should be classified. Many do have extra layers from other parts of the flower.\n",
      "\n",
      "In general speech, and especially in cooking, fruits are a |sweet product, and many botanical fruits are known as vegetables. This is how ordinary people use the words. On this page, we describe what botanists call a fruit.\n",
      "\n",
      "The fleshy part of a fruit is called the mesocarp. It is between the fruit's skin (exocarp) and the seeds. The white part of an apple, for example, is the \"fleshy\" part of the apple. Usually, when we eat a fruit, we eat the \"fleshy\" part.\n",
      "\n",
      "Types of fruits\n",
      "\n",
      "Berry\n",
      "If the entire fruit is fleshy, except for maybe a thin skin, the fruit is called a berry. A berry might contain one seed or many. Grapes, avocados, and blueberries are berries. They all have a thin skin, but most of the fruit is fleshy. Don't get confused by the name of fruits like strawberries, because actually they are not berries. The seeds are on the outside: on a real berry, the seed or seeds are inside the fruit.\n",
      "\n",
      "Pepo\n",
      "A pepo (pronounced pee' po) is a modified berry. Its skin is hard and thick and is usually called a \"rind\". Pumpkins and watermelons, for instance, are pepos.\n",
      "The word berry is used for many different kinds of small fruits that have many seeds and can be used as food. Some examples are raspberry, strawberry, sutberry, lingonberry and blueberry.\n",
      "\n",
      "When botanists talk about berries, they mean a simple fruit produced from a single ovary. They sometimes call this true berry, to distinguish it from false berries. By that statement of how words are used, grapes or tomatoes are true berries.\n",
      "\n",
      "The berry is the most common type of soft fruit in which the entire ovary wall gets to the right stage of development of the pericarp which can be taken as food. The flowers of these plants have an upper ovary with one or more carpels. The seeds are inside the soft body of the ovary.\n",
      "\n",
      "Berries are small, sweet, bright colored fruits. Due to this, they are able to bring more animals towards them and spread their seeds.\n",
      "\n",
      "Some fruits that are called berries in English are not true berries by the use of words above. These include raspberries, strawberry, sutberry, blackberries, cranberries, and boysenberries. Some true berries do not have berry in their name. These include tomatoes, bananas, eggplants, guavas, pomegranates and chillies. Pumpkins, cucumbers, melons, oranges and lemons are also berries that have slightly different structure and may be called by different names (pepo for pumpkins, cucumbers, and melons, or hesperidium for oranges and lemons).\n",
      "\n",
      "References\n",
      "Hesperidium\n",
      "A hesperidium is another modified berry. It has a leathery skin that is not as hard as the skin of a pepo. All citrus fruit like oranges and lemon are hesperidiums.\n",
      "\n",
      "Pome\n",
      "\n",
      "A pome (pohm) is a fruit that has a core surrounded by fleshy tissue that one can eat. The core is usually not eaten. Berries are different - the seeds are inside the fleshy part, not separated from it by a core. apples and pears are pomes.\n",
      "\n",
      "Drupe\n",
      "\n",
      "Drupes are also called stone fruit. A drupe is a fleshy fruit with a hard stone around the seed. We usually call this 'stone' the 'pit' of the fruit. Peaches and olives are drupes. Actually, the almond fruit is a drupe, too, though we eat the seed that is inside the 'pit' of the almond fruit.\n",
      "\n",
      "Botanical fruits\n",
      "Since fruits are produced from fertilised ovaries in flowers, only flowering plants produce fruits. Fruits are an evolutionary 'invention' which help seeds get dispersed by animals.\n",
      "\n",
      "The botanical term includes many that are not 'fruits' in the common sense of the term. such as the vegetables squash, pumpkins, cucumbers, tomato, peas, beans, corn, eggplant, and sweet pepper and some spices, such as allspice and chillies.\n",
      "\n",
      "Accessory fruits\n",
      "\n",
      "An accessory fruit or false fruit (pseudocarp) is a fruit in which some of the flesh is derived not from the ovary but from some adjacent tissue.\n",
      "\n",
      "A fig is a type of accessory fruit called a syconium. Pomes, such as apples and pears, are also accessory fruits: the core is the true fruit.\n",
      "Non-botanical fruits\n",
      "Strictly speaking, these are not botanical fruits: \n",
      " any produced by non-flowering plants, like juniper berries, which are the seed-containing female cones of conifers.\n",
      " fleshy fruit-like growths that develop from other plant tissues (like rhubarb).\n",
      "\n",
      "Area of agreement\n",
      "These are fruits which you can buy in shops, and which are also acceptable as botanical fruits:\n",
      " berry fruits: redcurrant, gooseberry, cranberry, blueberry Also, but not commonly known as berry fruits, are tomato, avocado, banana.\n",
      " false berries: raspberry, strawberry, blackberry: they are aggregate fruits (see below). The yew berry is not a fruit at all because the yew is a conifer.\n",
      " stone fruits or drupes: plum, cherry, peach, apricot, olive.\n",
      " citrus fruits, like oranges, grapefruits, and tangerines.\n",
      " aggregate fruits: raspberries, blackberries.\n",
      " multiple fruits: pineapples, figs.\n",
      "\n",
      "Many fruits come from trees or bushes. For plants, fruits are a means of dispersal, usually by animals. When the fruit is eaten, the seed(s) are not digested, and get excreted. Where fruits have big stones, just the soft parts are eaten. \n",
      "\n",
      "Most fruits we eat contain a lot of water and natural sugars, and many are high in Vitamin C. They have a large amount of dietary fibre. Fruits are usually low in protein and fat content, but avocados and some nuts are exceptions to this. Not only humans, but our closest living relatives (primates) are keen fruit-eaters. So are many other groups of herbivorous mammals and many birds.\n",
      "There are more than 7,500 known cultivars (varieties) of apples. Different cultivars are available for temperate and subtropical climates. One large collection of over 2,100 apple cultivars is at the National Fruit Collection in England. Most of these cultivars are grown for eating fresh (dessert apples). However, some are grown simply for cooking or making cider. Cider apples are usually too tart to eat immediately. However, they give cider a rich flavor that dessert apples cannot.\n",
      "\n",
      "Most popular apple cultivars are soft but crisp. Colorful skin, easy shipping, disease resistance, 'Red Delicious' apple shape, and popular flavor are also needed. Modern apples are usually sweeter than older cultivars. This is because popular tastes in apples have become different. Most North Americans and Europeans enjoy sweet apples. Extremely sweet apples with hardly any acid taste are popular in Asia and India.\n",
      "\n",
      "In the United Kingdom \n",
      "In the United Kingdom there are about 3000 different types of apples. The most common apple type grown in England is the 'Bramley seedling', which is a popular cooking apple.\n",
      "\n",
      "Apple orchards are not as common as they were in the early 1900s, when apples were rarely brought in from other countries. Organizations such as Common Ground teach people about the importance of rare and local varieties of fruit.\n",
      "\n",
      "In North America \n",
      "Many apples are grown in temperate parts of the United States and Canada. In many areas where apple growing is important, people have huge celebrations:\n",
      "\n",
      " Annapolis Valley Apple Blossom Festival - held five days every spring (May-June) in Nova Scotia\n",
      " Shenandoah Apple Blossom Festival - held six days every spring in Winchester, Virginia.\n",
      " Washington State Apple Blossom Festival - held two weeks every spring (April-May) in Wenatchee, Washington\n",
      "\n",
      "Varieties of apples \n",
      "\n",
      "There are many different varieties of apples, including:\n",
      "The flesh of the fruit is firm with a taste anywhere from sour to sweet. Apples used for cooking are sour, and need to be cooked with sugar, while other apples are sweet, and do not need cooking. There are some seeds at the core, that can be removed with a tool that removes the core, or by carefully using a knife.\n",
      "\n",
      "The scientific name of the apple tree genus in the Latin language is Malus. Most apples that people grow are of the Malus domestica species.\n",
      "\n",
      "Most apples are good to eat raw (not cooked), and are also used in many kinds of baked foods, such as apple pie. Apples are cooked until they are soft to make apple sauce.\n",
      "\n",
      "Apples are also made into the drinks apple juice and cider. Usually, cider contains a little alcohol, about as much as beer. The regions of Brittany in France and Cornwall in England are known for their apple ciders.\n",
      "\n",
      "Apple cultivars \n",
      "If one wants to grow a certain type of apple it is not possible to do this by planting a seed from the wanted type. The seed will have DNA from the apple that the seeds came from, but it will also  have DNA from the apple flower that pollinated the seeds, which may well be a different type. This means that the tree which would grow from planting would be a mixture of two. In order to grow a certain type of apple, a small twig, or 'scion', is cut from the tree that grows the type of apple desired, and then added on to a specially grown stump called a rootstock. The tree that grows will only create apples of the type needed.\n",
      "History\n",
      "\n",
      "The apple tree was possibly the earliest tree to be cultivated. Its fruits have become better over thousands of years. It is said that Alexander the Great discovered dwarf apples in Asia Minor in 300 BC. Asia and Europe have used winter apples as an important food for thousands of years. From when Europeans arrived, Argentina and the United States have used apples as food as well. Apples were brought to North America in the 1600s. The first apple orchard on the North American continent was said to be near Boston in 1625. In the 1900s, costly fruit industries, where the apple was a very important species, began developing.\n",
      "\n",
      "In culture\n",
      "\n",
      "Paganism \n",
      "\n",
      "In Norse mythology, the goddess Iðunn gives apples to the gods in Prose Edda (written in the 13th century by Snorri Sturluson) that makes them young forever. English scholar H. R. Ellis Davidson suggests that apples were related to religious practices in Germanic paganism. It was from there, she claims, that Norse paganism developed. She points out that buckets of apples were discovered in the place of burial for the Oseberg ship in Norway. She also remarks that fruit and nuts (Iðunn having been described as changing into a nut in Skáldskaparmál) have been discovered in the early graves of the Germanic peoples in England. They have also been discovered somewhere else on the continent of Europe. She suggests that this may have had a symbolic meaning. Nuts are still a symbol of fertility in Southwest England.\n",
      "\n",
      "Cooking \n",
      "Sometimes apples are eaten after they are cooked. Often apples are eaten uncooked. Apples can also be made into drinks. Apple juice and apple cider are apple drinks.\n",
      "Varieties of apples \n",
      "\n",
      "There are many different varieties of apples, including:\n",
      "\n",
      " Aport\n",
      " Cox's Orange Pippin\n",
      " Fuji (apple)\n",
      " Gala\n",
      " Golden Delicious (sometimes called a Green Delicious Apple)\n",
      " Granny Smith\n",
      " Jonathan\n",
      " Jonagold\n",
      " McIntosh\n",
      " Pink Lady\n",
      " Red Delicious\n",
      " Winesap\n",
      "\n",
      "Family \n",
      "Apples are in the group Maloideae. This is a subfamily of the family Rosaceae. They are in the same subfamily as pears.\n",
      "\n",
      "References\n",
      "\n",
      "Further reading \n",
      " Potter D. et al 2007. Phylogeny and classification of Rosaceae. Plant Systematics and Evolution. 266 (1–2): 5–43.\n",
      "\n",
      "Other websites \n",
      "\n",
      " \n",
      " \n",
      " \n",
      "\n",
      "Basic English 850 words\n",
      " \n",
      "Rosaceae\n",
      "Seedless fruits\n",
      "Seedlessness is an important feature of some fruits of commerce. Commercial bananas, pineapple, and watermelons are examples of seedless fruits. Some citrus fruits, especially oranges, satsumas, mandarin oranges, and grapefruit are valued for their seedlessness.\n",
      "\n",
      "Seedless bananas and grapes are triploids, and seedlessness results from the abortion of the embryonic plant which is produced by fertilisation. The method requires normal pollination and fertilisation.\n",
      "\n",
      "Related pages\n",
      " List of fruit\n",
      "\n",
      "References\n",
      "\n",
      "Basic English 850 words\n"
     ]
    }
   ],
   "source": [
    "query = \"Describe the edible fruit produced by several types of trees.\"\n",
    "\n",
    "embed = get_embeddings([query])\n",
    "res = index.query(vector=embed.data[0].embedding, top_k=3, include_metadata=True)\n",
    "text = [r['metadata']['text'] for r in res['matches']]\n",
    "print('\\n'.join(text))\n"
   ]
  },
  {
   "cell_type": "markdown",
   "id": "26ee483a",
   "metadata": {},
   "source": [
    "### Build the Prompt"
   ]
  },
  {
   "cell_type": "code",
   "execution_count": 14,
   "id": "92cdddce-9a39-4ffd-823c-e91b7af48cf5",
   "metadata": {
    "height": 419
   },
   "outputs": [
    {
     "name": "stdout",
     "output_type": "stream",
     "text": [
      "Answer the question based on the context below.\n",
      "\n",
      "Context:\n",
      "Apple is the edible fruit of a number of trees, known for this juicy, green or red fruits. The tree (Malus spp.) is grown worldwide. Its fruit is low-cost and popular, and is harvested all over the world. \n",
      "\n",
      "Applewood is a type of wood that comes from this tree.\n",
      "\n",
      "The apple tree comes from southern Kazakhstan, Kyrgyzstan, Uzbekistan, and northwestern part of China. Apples have been grown for thousands of years in Asia and Europe. They were brought to North America by European settlers. Apples have religious and mythological significance in many cultures.\n",
      "\n",
      "Apples are generally propagated by grafting, although wild apples grow readily from seed. Apple trees are large if grown from seed, but small if grafted onto roots (rootstock). There are more than 10000 known cultivars of apples, with a range of desired characteristics. Different cultivars are bred for various tastes and uses: cooking, eating raw and cider production are the most common uses. \n",
      "\n",
      "Trees and fruit are attacked by fungi, bacteria and pests. In 2010, the fruit's genome was sequenced as part of research on disease control and selective breeding in apple production.\n",
      "\n",
      "Worldwide production of apples in 2013 was 90.8 million tonnes. China grew 49% of the total.\n",
      "\n",
      "---\n",
      "\n",
      "History\n",
      "\n",
      "The apple tree was possibly the earliest tree to be cultivated. Its fruits have become better over thousands of years. It is said that Alexander the Great discovered dwarf apples in Asia Minor in 300 BC. Asia and Europe have used winter apples as an important food for thousands of years. From when Europeans arrived, Argentina and the United States have used apples as food as well. Apples were brought to North America in the 1600s. The first apple orchard on the North American continent was said to be near Boston in 1625. In the 1900s, costly fruit industries, where the apple was a very important species, began developing.\n",
      "\n",
      "In culture\n",
      "\n",
      "Paganism \n",
      "\n",
      "In Norse mythology, the goddess Iðunn gives apples to the gods in Prose Edda (written in the 13th century by Snorri Sturluson) that makes them young forever. English scholar H. R. Ellis Davidson suggests that apples were related to religious practices in Germanic paganism. It was from there, she claims, that Norse paganism developed. She points out that buckets of apples were discovered in the place of burial for the Oseberg ship in Norway. She also remarks that fruit and nuts (Iðunn having been described as changing into a nut in Skáldskaparmál) have been discovered in the early graves of the Germanic peoples in England. They have also been discovered somewhere else on the continent of Europe. She suggests that this may have had a symbolic meaning. Nuts are still a symbol of fertility in Southwest England.\n",
      "\n",
      "Cooking \n",
      "Sometimes apples are eaten after they are cooked. Often apples are eaten uncooked. Apples can also be made into drinks. Apple juice and apple cider are apple drinks.\n",
      "\n",
      "---\n",
      "\n",
      "The flesh of the fruit is firm with a taste anywhere from sour to sweet. Apples used for cooking are sour, and need to be cooked with sugar, while other apples are sweet, and do not need cooking. There are some seeds at the core, that can be removed with a tool that removes the core, or by carefully using a knife.\n",
      "\n",
      "The scientific name of the apple tree genus in the Latin language is Malus. Most apples that people grow are of the Malus domestica species.\n",
      "\n",
      "Most apples are good to eat raw (not cooked), and are also used in many kinds of baked foods, such as apple pie. Apples are cooked until they are soft to make apple sauce.\n",
      "\n",
      "Apples are also made into the drinks apple juice and cider. Usually, cider contains a little alcohol, about as much as beer. The regions of Brittany in France and Cornwall in England are known for their apple ciders.\n",
      "\n",
      "Apple cultivars \n",
      "If one wants to grow a certain type of apple it is not possible to do this by planting a seed from the wanted type. The seed will have DNA from the apple that the seeds came from, but it will also  have DNA from the apple flower that pollinated the seeds, which may well be a different type. This means that the tree which would grow from planting would be a mixture of two. In order to grow a certain type of apple, a small twig, or 'scion', is cut from the tree that grows the type of apple desired, and then added on to a specially grown stump called a rootstock. The tree that grows will only create apples of the type needed.\n",
      "\n",
      "---\n",
      "\n",
      "Varieties of apples \n",
      "\n",
      "There are many different varieties of apples, including:\n",
      "\n",
      " Aport\n",
      " Cox's Orange Pippin\n",
      " Fuji (apple)\n",
      " Gala\n",
      " Golden Delicious (sometimes called a Green Delicious Apple)\n",
      " Granny Smith\n",
      " Jonathan\n",
      " Jonagold\n",
      " McIntosh\n",
      " Pink Lady\n",
      " Red Delicious\n",
      " Winesap\n",
      "\n",
      "Family \n",
      "Apples are in the group Maloideae. This is a subfamily of the family Rosaceae. They are in the same subfamily as pears.\n",
      "\n",
      "References\n",
      "\n",
      "Further reading \n",
      " Potter D. et al 2007. Phylogeny and classification of Rosaceae. Plant Systematics and Evolution. 266 (1–2): 5–43.\n",
      "\n",
      "Other websites \n",
      "\n",
      " \n",
      " \n",
      " \n",
      "\n",
      "Basic English 850 words\n",
      " \n",
      "Rosaceae\n",
      "\n",
      "---\n",
      "\n",
      "Botanical information \n",
      "The apple has a small, leaf-shedding tree that grows up to  tall. The apple tree has a broad crown with thick twigs.\n",
      "The leaves are alternately arranged simple ovals. They are 5 to 12 centimetres long and 3–6 centimetres (1.2–2.4 in) wide. It has a sharp top with a soft underside. Blossoms come out in spring at the same time that the leaves begin to bud. The flowers are white. They also have a slightly pink color. They are five petaled, and 2.5 to 3.5 centimetres (0.98 to 1.4 in) in diameter. The fruit matures in autumn. It is usually 5 to 9 centimetres (2.0 to 3.5 in) in diameter. There are five carpels arranged in a star in the middle of the fruit. Every carpel has one to three seeds.\n",
      "\n",
      "Wild ancestors \n",
      "The wild ancestor of apple trees is Malus sieversii. They grow wild in the mountains of Central Asia in the north of Kazakhstan, Kyrgyzstan, Tajikistan, and Xinjiang, China, and possibly also Malus sylvestris. Unlike domesticated apples, their leaves become red in autumn. They are being used recently to develop Malus domestica to grow in colder climates.\n",
      "\n",
      "History\n",
      "\n",
      "---\n",
      "\n",
      "There are more than 7,500 known cultivars (varieties) of apples. Different cultivars are available for temperate and subtropical climates. One large collection of over 2,100 apple cultivars is at the National Fruit Collection in England. Most of these cultivars are grown for eating fresh (dessert apples). However, some are grown simply for cooking or making cider. Cider apples are usually too tart to eat immediately. However, they give cider a rich flavor that dessert apples cannot.\n",
      "\n",
      "Most popular apple cultivars are soft but crisp. Colorful skin, easy shipping, disease resistance, 'Red Delicious' apple shape, and popular flavor are also needed. Modern apples are usually sweeter than older cultivars. This is because popular tastes in apples have become different. Most North Americans and Europeans enjoy sweet apples. Extremely sweet apples with hardly any acid taste are popular in Asia and India.\n",
      "\n",
      "In the United Kingdom \n",
      "In the United Kingdom there are about 3000 different types of apples. The most common apple type grown in England is the 'Bramley seedling', which is a popular cooking apple.\n",
      "\n",
      "Apple orchards are not as common as they were in the early 1900s, when apples were rarely brought in from other countries. Organizations such as Common Ground teach people about the importance of rare and local varieties of fruit.\n",
      "\n",
      "In North America \n",
      "Many apples are grown in temperate parts of the United States and Canada. In many areas where apple growing is important, people have huge celebrations:\n",
      "\n",
      " Annapolis Valley Apple Blossom Festival - held five days every spring (May-June) in Nova Scotia\n",
      " Shenandoah Apple Blossom Festival - held six days every spring in Winchester, Virginia.\n",
      " Washington State Apple Blossom Festival - held two weeks every spring (April-May) in Wenatchee, Washington\n",
      "\n",
      "Varieties of apples \n",
      "\n",
      "There are many different varieties of apples, including:\n",
      "\n",
      "---\n",
      "\n",
      "In botany, a fruit is a plant structure that contains the plant's seeds. \n",
      "\n",
      "To a botanist, the word fruit is used only if it comes from the part of the flower which was an ovary. It is an extra layer round the seeds, which may or may not be fleshy. However, even in the field of botany, there is no general agreement on how fruits should be classified. Many do have extra layers from other parts of the flower.\n",
      "\n",
      "In general speech, and especially in cooking, fruits are a |sweet product, and many botanical fruits are known as vegetables. This is how ordinary people use the words. On this page, we describe what botanists call a fruit.\n",
      "\n",
      "The fleshy part of a fruit is called the mesocarp. It is between the fruit's skin (exocarp) and the seeds. The white part of an apple, for example, is the \"fleshy\" part of the apple. Usually, when we eat a fruit, we eat the \"fleshy\" part.\n",
      "\n",
      "Types of fruits\n",
      "\n",
      "Berry\n",
      "If the entire fruit is fleshy, except for maybe a thin skin, the fruit is called a berry. A berry might contain one seed or many. Grapes, avocados, and blueberries are berries. They all have a thin skin, but most of the fruit is fleshy. Don't get confused by the name of fruits like strawberries, because actually they are not berries. The seeds are on the outside: on a real berry, the seed or seeds are inside the fruit.\n",
      "\n",
      "Pepo\n",
      "A pepo (pronounced pee' po) is a modified berry. Its skin is hard and thick and is usually called a \"rind\". Pumpkins and watermelons, for instance, are pepos.\n",
      "\n",
      "---\n",
      "\n",
      "The word berry is used for many different kinds of small fruits that have many seeds and can be used as food. Some examples are raspberry, strawberry, sutberry, lingonberry and blueberry.\n",
      "\n",
      "When botanists talk about berries, they mean a simple fruit produced from a single ovary. They sometimes call this true berry, to distinguish it from false berries. By that statement of how words are used, grapes or tomatoes are true berries.\n",
      "\n",
      "The berry is the most common type of soft fruit in which the entire ovary wall gets to the right stage of development of the pericarp which can be taken as food. The flowers of these plants have an upper ovary with one or more carpels. The seeds are inside the soft body of the ovary.\n",
      "\n",
      "Berries are small, sweet, bright colored fruits. Due to this, they are able to bring more animals towards them and spread their seeds.\n",
      "\n",
      "Some fruits that are called berries in English are not true berries by the use of words above. These include raspberries, strawberry, sutberry, blackberries, cranberries, and boysenberries. Some true berries do not have berry in their name. These include tomatoes, bananas, eggplants, guavas, pomegranates and chillies. Pumpkins, cucumbers, melons, oranges and lemons are also berries that have slightly different structure and may be called by different names (pepo for pumpkins, cucumbers, and melons, or hesperidium for oranges and lemons).\n",
      "\n",
      "References\n",
      "\n",
      "---\n",
      "\n",
      "Non-botanical fruits\n",
      "Strictly speaking, these are not botanical fruits: \n",
      " any produced by non-flowering plants, like juniper berries, which are the seed-containing female cones of conifers.\n",
      " fleshy fruit-like growths that develop from other plant tissues (like rhubarb).\n",
      "\n",
      "Area of agreement\n",
      "These are fruits which you can buy in shops, and which are also acceptable as botanical fruits:\n",
      " berry fruits: redcurrant, gooseberry, cranberry, blueberry Also, but not commonly known as berry fruits, are tomato, avocado, banana.\n",
      " false berries: raspberry, strawberry, blackberry: they are aggregate fruits (see below). The yew berry is not a fruit at all because the yew is a conifer.\n",
      " stone fruits or drupes: plum, cherry, peach, apricot, olive.\n",
      " citrus fruits, like oranges, grapefruits, and tangerines.\n",
      " aggregate fruits: raspberries, blackberries.\n",
      " multiple fruits: pineapples, figs.\n",
      "\n",
      "Many fruits come from trees or bushes. For plants, fruits are a means of dispersal, usually by animals. When the fruit is eaten, the seed(s) are not digested, and get excreted. Where fruits have big stones, just the soft parts are eaten. \n",
      "\n",
      "Most fruits we eat contain a lot of water and natural sugars, and many are high in Vitamin C. They have a large amount of dietary fibre. Fruits are usually low in protein and fat content, but avocados and some nuts are exceptions to this. Not only humans, but our closest living relatives (primates) are keen fruit-eaters. So are many other groups of herbivorous mammals and many birds.\n",
      "\n",
      "---\n",
      "\n",
      "Hesperidium\n",
      "A hesperidium is another modified berry. It has a leathery skin that is not as hard as the skin of a pepo. All citrus fruit like oranges and lemon are hesperidiums.\n",
      "\n",
      "Pome\n",
      "\n",
      "A pome (pohm) is a fruit that has a core surrounded by fleshy tissue that one can eat. The core is usually not eaten. Berries are different - the seeds are inside the fleshy part, not separated from it by a core. apples and pears are pomes.\n",
      "\n",
      "Drupe\n",
      "\n",
      "Drupes are also called stone fruit. A drupe is a fleshy fruit with a hard stone around the seed. We usually call this 'stone' the 'pit' of the fruit. Peaches and olives are drupes. Actually, the almond fruit is a drupe, too, though we eat the seed that is inside the 'pit' of the almond fruit.\n",
      "\n",
      "Botanical fruits\n",
      "Since fruits are produced from fertilised ovaries in flowers, only flowering plants produce fruits. Fruits are an evolutionary 'invention' which help seeds get dispersed by animals.\n",
      "\n",
      "The botanical term includes many that are not 'fruits' in the common sense of the term. such as the vegetables squash, pumpkins, cucumbers, tomato, peas, beans, corn, eggplant, and sweet pepper and some spices, such as allspice and chillies.\n",
      "\n",
      "Accessory fruits\n",
      "\n",
      "An accessory fruit or false fruit (pseudocarp) is a fruit in which some of the flesh is derived not from the ovary but from some adjacent tissue.\n",
      "\n",
      "A fig is a type of accessory fruit called a syconium. Pomes, such as apples and pears, are also accessory fruits: the core is the true fruit.\n",
      "\n",
      "Question: write an article titled: Apple, the edible fruit of various trees?\n",
      "Answer:\n"
     ]
    }
   ],
   "source": [
    "query = \"write an article titled: Apple, the edible fruit of various trees?\"\n",
    "embed = get_embeddings([query])\n",
    "res = index.query(vector=embed.data[0].embedding, top_k=3, include_metadata=True)\n",
    "\n",
    "contexts = [\n",
    "    x['metadata']['text'] for x in res['matches']\n",
    "]\n",
    "\n",
    "prompt_start = (\n",
    "    \"Answer the question based on the context below.\\n\\n\"+\n",
    "    \"Context:\\n\"\n",
    ")\n",
    "\n",
    "prompt_end = (\n",
    "    f\"\\n\\nQuestion: {query}\\nAnswer:\"\n",
    ")\n",
    "\n",
    "prompt = (\n",
    "    prompt_start + \"\\n\\n---\\n\\n\".join(contexts) + \n",
    "    prompt_end\n",
    ")\n",
    "\n",
    "print(prompt)"
   ]
  },
  {
   "cell_type": "markdown",
   "id": "c457d658",
   "metadata": {},
   "source": [
    "### Get the Summary "
   ]
  },
  {
   "cell_type": "code",
   "execution_count": 15,
   "id": "1cd1b8ed-99b6-4c47-a784-da4192aa6e6e",
   "metadata": {
    "height": 217
   },
   "outputs": [
    {
     "name": "stdout",
     "output_type": "stream",
     "text": [
      "--------------------------------------------------------------------------------\n",
      "\n",
      "\n",
      "Apple is a widely popular and beloved fruit that is enjoyed by people all over the world. It is known for its juicy, green or red fruits that are both low-cost and delicious. The apple tree, scientifically known as Malus spp., is grown worldwide and its fruit is harvested in various countries.\n",
      "\n",
      "The history of apples dates back thousands of years, with evidence of their cultivation in Asia and Europe. They were brought to North America by European settlers in the 1600s and have since become a staple in the American diet. Apples have also played a significant role in various cultures, with religious and mythological significance in many societies.\n",
      "\n",
      "There are over 10,000 known cultivars of apples, each with its own unique characteristics and uses. Some are bred for cooking, while others are best eaten raw or used for cider production. Apples are generally propagated by grafting, although wild apples can also grow from seeds.\n",
      "\n",
      "However, like any other fruit, apple trees and their fruits are susceptible to attacks from fungi, bacteria, and pests. In 2010, the fruit's genome was sequenced as part of research on disease control and selective breeding in apple production.\n",
      "\n",
      "In terms of production, China is the leading producer of apples, accounting for 49% of the total worldwide production in 2013. Other top producers include the United States, Turkey, Poland, and Italy.\n",
      "\n",
      "Apples are known for their firm flesh and can range in taste from sour to sweet. Some apples are best used for cooking, while others are perfect for eating raw. The fruit is typically harvested in autumn and can be stored for several months.\n",
      "\n",
      "Apart from being a delicious and versatile fruit, apples also have numerous health benefits. They are a good source of dietary fiber, vitamin C, and antioxidants. Regular consumption of apples has been linked to a reduced risk of heart disease, diabetes, and certain types of cancer.\n",
      "\n",
      "In conclusion, apples are a beloved fruit that has been enjoyed for thousands of years. With its wide variety of cultivars and uses, it is no wonder that apples continue to be a popular fruit all over the world. So next time you bite into a juicy apple, remember the rich history and significance behind this delicious fruit.\n"
     ]
    }
   ],
   "source": [
    "res = openai_client.completions.create(\n",
    "    model=\"gpt-3.5-turbo-instruct\",\n",
    "    prompt=prompt,\n",
    "    temperature=0,\n",
    "    max_tokens=636,\n",
    "    top_p=1,\n",
    "    frequency_penalty=0,\n",
    "    presence_penalty=0,\n",
    "    stop=None\n",
    ")\n",
    "print('-' * 80)\n",
    "print(res.choices[0].text)"
   ]
  },
  {
   "cell_type": "code",
   "execution_count": null,
   "id": "7e985a43-5d35-4173-9ae1-3efef399c379",
   "metadata": {
    "height": 30
   },
   "outputs": [],
   "source": []
  }
 ],
 "metadata": {
  "kernelspec": {
   "display_name": "Python 3 (ipykernel)",
   "language": "python",
   "name": "python3"
  },
  "language_info": {
   "codemirror_mode": {
    "name": "ipython",
    "version": 3
   },
   "file_extension": ".py",
   "mimetype": "text/x-python",
   "name": "python",
   "nbconvert_exporter": "python",
   "pygments_lexer": "ipython3",
   "version": "3.10.14"
  }
 },
 "nbformat": 4,
 "nbformat_minor": 5
}
